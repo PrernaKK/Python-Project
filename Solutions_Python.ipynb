{
 "cells": [
  {
   "cell_type": "markdown",
   "id": "6c49af85-156f-4385-b010-60bc4c32ff95",
   "metadata": {},
   "source": [
    "##### Q1: You are working in a bank, and you have been given two lists of the employees who worked in 2021. Employees’ names in list 1 are Ramesh, \n",
    "\n",
    "##### Suresh, Mahesh, Ali, Jacob, and Saritha. List 2 contains the names of Ali, Mukesh, Mahesh, Jacob, Sai, and Sarita. Please write a program that helps to\n",
    "\n",
    "##### identify people who are common in both lists. Please do not use any in-built function. "
   ]
  },
  {
   "cell_type": "code",
   "execution_count": 30,
   "id": "75a9e4e0-3b17-48d5-bf49-afdba7f2a663",
   "metadata": {},
   "outputs": [
    {
     "name": "stdout",
     "output_type": "stream",
     "text": [
      "Mahesh\n",
      "Ali\n",
      "Jacob\n"
     ]
    }
   ],
   "source": [
    "l1= ['Ramesh','Suresh','Mahesh','Ali','Jacob','Saritha']\n",
    "l2= ['Ali','Mukesh','Mahesh','Jacob','Sai','Sarita']\n",
    "\n",
    "for i in l1:\n",
    "    if i in l2:\n",
    "        print(i)"
   ]
  },
  {
   "cell_type": "markdown",
   "id": "dded6521-d48a-4ec8-8cf1-3311278cdd78",
   "metadata": {},
   "source": [
    "##### Q2: While entering data, someone entered a few names as a common string “Ramesh Suresh Mohit”. Please write a program which separates all the \n",
    "\n",
    "##### names and converts them into a list. Once converted into a list, please write a program that adds their age. \n",
    "\n",
    "\r\n",
    "\r\n",
    "Ramesh:  25\r\n",
    "\r\n",
    "Suresh: 22\r\n",
    "\r\n",
    "Mohit: 26"
   ]
  },
  {
   "cell_type": "code",
   "execution_count": 31,
   "id": "c36feb7d-02ae-4044-829c-ed6a681080a3",
   "metadata": {},
   "outputs": [
    {
     "name": "stdout",
     "output_type": "stream",
     "text": [
      "Result of string to list ['Ramesh', 'Suresh', 'Mohit']\n",
      "Sum of thier age is 73\n"
     ]
    }
   ],
   "source": [
    "str_names = 'Ramesh Suresh Mohit'\n",
    "lst = str_names.split()\n",
    "print(\"Result of string to list\",lst)\n",
    "\n",
    "age_details={\"Ramesh\": 25, \"Suresh\": 22, \"Mohit\": 26}\n",
    "total_age=0\n",
    "for i in age_details:\n",
    "    total_age+=age_details[i]\n",
    "print('Sum of thier age is',total_age)"
   ]
  },
  {
   "cell_type": "markdown",
   "id": "1debe0c9-ba04-4b8d-aa5b-432f19bfc173",
   "metadata": {},
   "source": [
    "##### Q3: You are working in a medical store. A patient came to your medical store and asked to buy 2 strips of paracetamol, 3 strips of azithromycin,\n",
    "\n",
    "##### and 5 strips of Vitamin C. One strip of paracetamol costs Rs 35, one strip of azithromycin costs Rs 49, and one strip of vitamin c costs Rs. 33. \n",
    "\n",
    "##### Patient gave you Rs 2000. Please tell us what is the total cost of each medicine, the total cost of all medicine, and how much money you refunded \n",
    "\n",
    "##### to the patient.  "
   ]
  },
  {
   "cell_type": "code",
   "execution_count": 1,
   "id": "78d96eb5-adc8-495b-9a56-8683a2f1c718",
   "metadata": {},
   "outputs": [
    {
     "name": "stdout",
     "output_type": "stream",
     "text": [
      "Total cost of paracetamol is 70\n",
      "Total cost of azithromycin is 147\n",
      "Total cost of Vitamin C is 165\n",
      "Total Medicine costs = 382\n",
      "Money to be refunded = 1618\n"
     ]
    }
   ],
   "source": [
    "count_Med = {'paracetamol':2,'azithromycin':3,'Vitamin C':5}\n",
    "Med_Cost = {'paracetamol':35,'azithromycin':49,'Vitamin C':33}\n",
    "total_money=2000\n",
    "total_cost=0\n",
    "cost_medWise=0\n",
    "\n",
    "for i in count_Med:\n",
    "    total_cost+=count_Med[i]*Med_Cost[i]\n",
    "    cost_medWise=count_Med[i]*Med_Cost[i]\n",
    "    \n",
    "    print('Total cost of',i,\"is\",cost_medWise)\n",
    "print('Total Medicine costs =',total_cost)\n",
    "print('Money to be refunded =',total_money-total_cost)"
   ]
  },
  {
   "cell_type": "markdown",
   "id": "b2e95d31-e8db-4113-bb71-ae635ae9b86c",
   "metadata": {},
   "source": [
    "##### Q4: Accept a sentence as input and find the number of vowels in it. Assume that the sentence has no punctuation marks. For example, I am learning \n",
    "\n",
    "##### python contains 6 vowels. This function should be applicable for all other different sentences."
   ]
  },
  {
   "cell_type": "code",
   "execution_count": 2,
   "id": "d4112719-0431-418b-879a-dbbc38b8dd51",
   "metadata": {},
   "outputs": [
    {
     "name": "stdin",
     "output_type": "stream",
     "text": [
      "Enter a sentence with no punctuation:  Buenos diaz Estoy Bien Y Tu\n"
     ]
    },
    {
     "name": "stdout",
     "output_type": "stream",
     "text": [
      "Total vowels present in the sentence are 10\n"
     ]
    }
   ],
   "source": [
    "str1_in=input('Enter a sentence with no punctuation:').lower().strip()\n",
    "vowels='aeiou'\n",
    "count=0\n",
    "\n",
    "for i in str1_in:\n",
    "    if i in vowels:\n",
    "        count+=1\n",
    "        \n",
    "print('Total vowels present in the sentence are',count)"
   ]
  },
  {
   "cell_type": "markdown",
   "id": "330a081d-bcae-4b79-92d4-2860b9cc114b",
   "metadata": {},
   "source": [
    "##### Q5: You have been appointed by the election commission to create a website. Your first task is to work on a program which tells candidates if \n",
    "\n",
    "##### they are eligible for voting or not. If they are eligible, your output should be ‘Congrats! You are eligible’; otherwise, it should tell that you \n",
    "\n",
    "##### have to return after X number of years. The eligibility criteria for voting is 18 years. \n",
    "\n",
    "##### For example, If someone is 18 or above, your output should be ‘Congrats! You are eligible’. If someone’s age is 15 years, it should print output \n",
    "\n",
    "##### as ‘return after 3 years’.   "
   ]
  },
  {
   "cell_type": "code",
   "execution_count": 36,
   "id": "9affb4d8-475b-4c51-8a8b-d2985b71c863",
   "metadata": {},
   "outputs": [
    {
     "name": "stdin",
     "output_type": "stream",
     "text": [
      "Enter you age 11\n"
     ]
    },
    {
     "name": "stdout",
     "output_type": "stream",
     "text": [
      "Return after 7 years\n"
     ]
    }
   ],
   "source": [
    "age=int(input('Enter you age'))\n",
    "if age>=18:\n",
    "    print('Congrats! You are eligible')\n",
    "else:\n",
    "    age_diff=18-age\n",
    "    print(f'Return after {age_diff} years')"
   ]
  },
  {
   "cell_type": "markdown",
   "id": "d9949538-7442-4440-836f-f64dffdd1bfe",
   "metadata": {},
   "source": [
    "##### Q6: Given a list of integers, find the cumulative sum of the elements of the list and store them in another list."
   ]
  },
  {
   "cell_type": "markdown",
   "id": "a391f5e5-a8a5-4680-b38e-2cff7820c3c1",
   "metadata": {},
   "source": [
    "A = [1, 2, 3, 4, 5] \n",
    "\n",
    "Output: [1, 3, 6, 10, 15]"
   ]
  },
  {
   "cell_type": "code",
   "execution_count": 4,
   "id": "a5c2e261-5d26-4143-a92c-bff6f1c32ecb",
   "metadata": {},
   "outputs": [
    {
     "name": "stdout",
     "output_type": "stream",
     "text": [
      "List for cumulative sum of the elements is [1, 3, 6, 10, 15]\n"
     ]
    }
   ],
   "source": [
    "A = [1, 2, 3, 4, 5]\n",
    "sum=0\n",
    "sum_lst=[sum:=sum+i for i in A]                  \n",
    "print('List for cumulative sum of the elements is',sum_lst)"
   ]
  },
  {
   "cell_type": "markdown",
   "id": "4c909481-967a-43ea-b7c0-dee28c2775a6",
   "metadata": {},
   "source": [
    "##### Q7: WAP to encode a message entered by user as per below conditions:\n",
    "\n",
    "##### for every word in the sentence, "
   ]
  },
  {
   "cell_type": "markdown",
   "id": "52a4ae83-09a6-4499-aa07-6347356838c1",
   "metadata": {},
   "source": [
    "##### 1.If the word starts with a vowel, encode it as the first and last letter of the word.\n",
    "\n",
    "##### 2.If the word starts with a consonant, remove all vowels from it."
   ]
  },
  {
   "cell_type": "markdown",
   "id": "e7222fb5-6027-4e26-abb1-f0eee0cfbe3a",
   "metadata": {},
   "source": [
    "##### Ensure the case insensitive comparisons/checks are performed.\n",
    "\n",
    "##### Please enter your text:The quick brown fox used to sleep inside this box\n",
    "\n",
    "##### Encoded Msg: Th qck brwn fx ud t slp ie ths bx"
   ]
  },
  {
   "cell_type": "code",
   "execution_count": 38,
   "id": "adb936bd-7b46-4658-9321-0a2bf0e5d06d",
   "metadata": {},
   "outputs": [
    {
     "name": "stdin",
     "output_type": "stream",
     "text": [
      "Enter a sentence The quick brown fox used to sleep inside this box\n"
     ]
    },
    {
     "name": "stdout",
     "output_type": "stream",
     "text": [
      "Th qck brwn fx ud t slp ie ths bx\n"
     ]
    }
   ],
   "source": [
    "sentence=input('Enter a sentence')\n",
    "vowels='aeiouAEIOU'\n",
    "lst=sentence.split()\n",
    "#print(lst)\n",
    "new_lst=[]\n",
    "for i in lst:\n",
    "    if i[0] in vowels:\n",
    "        encoded_V=i[0]+i[-1]\n",
    "        new_lst.append(encoded_V)\n",
    "    else:\n",
    "        encoded_C=''\n",
    "        for j in i:\n",
    "            if j not in vowels:\n",
    "                encoded_C=encoded_C+j\n",
    "        new_lst.append(encoded_C)\n",
    "encoded_Msg=' '.join(new_lst)\n",
    "print(encoded_Msg)"
   ]
  },
  {
   "cell_type": "markdown",
   "id": "f20318e7-24b5-4b3f-8e56-31b3e656ca1a",
   "metadata": {},
   "source": [
    "##### Q8: Write a program to implement run length encoding of a string\n",
    "\n",
    "##### RLE:Consecutive repetition of a character has to be replaced with the count of occurrences and the character."
   ]
  },
  {
   "cell_type": "markdown",
   "id": "f773638e-7743-4614-8b2c-cef745d841e1",
   "metadata": {},
   "source": [
    "Enter your string :aabbbccdddae\n",
    "\n",
    "Encoded: 2a3b2c3d1a1e"
   ]
  },
  {
   "cell_type": "code",
   "execution_count": 3,
   "id": "1d155682-fbb4-4f41-9947-70e2c186531a",
   "metadata": {},
   "outputs": [
    {
     "name": "stdin",
     "output_type": "stream",
     "text": [
      "Enter your string:  aabbbccdddae\n"
     ]
    },
    {
     "name": "stdout",
     "output_type": "stream",
     "text": [
      "2a3b2c3d1a1e\n"
     ]
    }
   ],
   "source": [
    "str1=input('Enter your string: ').strip()\n",
    "i=0\n",
    "final_str=''\n",
    "count=1\n",
    "\n",
    "while i<len(str1):\n",
    "    if i+1<len(str1) and str1[i]==str1[i+1]:\n",
    "        count+=1\n",
    "    else: \n",
    "        count_str='%s'%count\n",
    "        final_str+=count_str+str1[i]\n",
    "        count=1\n",
    "    i+=1\n",
    "print(final_str)\n",
    "         "
   ]
  },
  {
   "cell_type": "code",
   "execution_count": null,
   "id": "0ce0cc9b-50c4-468b-93d9-c32b3bee61aa",
   "metadata": {},
   "outputs": [],
   "source": []
  }
 ],
 "metadata": {
  "kernelspec": {
   "display_name": "Python 3 (ipykernel)",
   "language": "python",
   "name": "python3"
  },
  "language_info": {
   "codemirror_mode": {
    "name": "ipython",
    "version": 3
   },
   "file_extension": ".py",
   "mimetype": "text/x-python",
   "name": "python",
   "nbconvert_exporter": "python",
   "pygments_lexer": "ipython3",
   "version": "3.11.4"
  }
 },
 "nbformat": 4,
 "nbformat_minor": 5
}
